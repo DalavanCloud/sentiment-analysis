{
 "cells": [
  {
   "cell_type": "code",
   "execution_count": 1,
   "metadata": {},
   "outputs": [
    {
     "name": "stderr",
     "output_type": "stream",
     "text": [
      "C:\\Users\\smart\\AppData\\Local\\Continuum\\anaconda3\\lib\\site-packages\\nltk\\twitter\\__init__.py:20: UserWarning: The twython library has not been installed. Some functionality from the twitter package will not be available.\n",
      "  warnings.warn(\"The twython library has not been installed. \"\n"
     ]
    }
   ],
   "source": [
    "import pandas as pd\n",
    "import nltk\n",
    "from nltk.sentiment.vader import SentimentIntensityAnalyzer\n",
    "# from nltk.corpus import stopwords\n",
    "from afinn import Afinn\n",
    "from newsapi import NewsApiClient"
   ]
  },
  {
   "cell_type": "code",
   "execution_count": 2,
   "metadata": {},
   "outputs": [],
   "source": [
    "sid = SentimentIntensityAnalyzer()\n",
    "afinn = Afinn()\n",
    "newsapi = NewsApiClient(api_key='c739ce625cc44a2489a36795b6fbcf7e')\n"
   ]
  },
  {
   "cell_type": "code",
   "execution_count": 3,
   "metadata": {},
   "outputs": [],
   "source": [
    "all_articles = pd.read_csv('data/all_articles.csv', encoding='utf-8')"
   ]
  },
  {
   "cell_type": "code",
   "execution_count": 4,
   "metadata": {},
   "outputs": [],
   "source": [
    "default_keywords = ['shares', 'competition', 'reserves', 'finance', 'culture' ]\n",
    "# all_articles = pd.DataFrame()\n",
    "for keyword in default_keywords:\n",
    "    articles = newsapi.get_everything(q=keyword, language=\"en\", page_size=100)\n",
    "    all_articles=all_articles.append(pd.DataFrame(articles['articles']))    "
   ]
  },
  {
   "cell_type": "code",
   "execution_count": 5,
   "metadata": {},
   "outputs": [],
   "source": [
    "#Drop row if content, title are null\n",
    "all_articles.dropna(axis=0, subset=['content', 'title'], inplace=True)"
   ]
  },
  {
   "cell_type": "code",
   "execution_count": 6,
   "metadata": {},
   "outputs": [
    {
     "data": {
      "text/plain": [
       "(1452, 8)"
      ]
     },
     "execution_count": 6,
     "metadata": {},
     "output_type": "execute_result"
    }
   ],
   "source": [
    "all_articles.shape"
   ]
  },
  {
   "cell_type": "code",
   "execution_count": 7,
   "metadata": {},
   "outputs": [],
   "source": [
    "all_articles.to_csv('data/all_articles.csv', index=False)"
   ]
  },
  {
   "cell_type": "code",
   "execution_count": 8,
   "metadata": {},
   "outputs": [],
   "source": [
    "def get_sentiment(description):        \n",
    "    polarity = sid.polarity_scores(description)['compound']    \n",
    "    return 'positive' if polarity>0.2 else 'negative' if polarity<-0.2 else 'neutral'\n",
    "    "
   ]
  },
  {
   "cell_type": "code",
   "execution_count": 9,
   "metadata": {},
   "outputs": [
    {
     "data": {
      "text/html": [
       "<div>\n",
       "<style scoped>\n",
       "    .dataframe tbody tr th:only-of-type {\n",
       "        vertical-align: middle;\n",
       "    }\n",
       "\n",
       "    .dataframe tbody tr th {\n",
       "        vertical-align: top;\n",
       "    }\n",
       "\n",
       "    .dataframe thead th {\n",
       "        text-align: right;\n",
       "    }\n",
       "</style>\n",
       "<table border=\"1\" class=\"dataframe\">\n",
       "  <thead>\n",
       "    <tr style=\"text-align: right;\">\n",
       "      <th></th>\n",
       "      <th>author</th>\n",
       "      <th>content</th>\n",
       "      <th>description</th>\n",
       "      <th>publishedAt</th>\n",
       "      <th>source</th>\n",
       "      <th>title</th>\n",
       "      <th>url</th>\n",
       "      <th>urlToImage</th>\n",
       "      <th>sentiment</th>\n",
       "    </tr>\n",
       "  </thead>\n",
       "  <tbody>\n",
       "    <tr>\n",
       "      <th>0</th>\n",
       "      <td>Saqib Shah</td>\n",
       "      <td>A total of 50 episodes have been commissioned ...</td>\n",
       "      <td>Following in the footsteps of Zane Lowe and Ry...</td>\n",
       "      <td>2018-09-21T12:20:00Z</td>\n",
       "      <td>{'id': 'engadget', 'name': 'Engadget'}</td>\n",
       "      <td>Spotify taps DJ Semtex for hip-hop culture pod...</td>\n",
       "      <td>https://www.engadget.com/2018/09/21/spotify-dj...</td>\n",
       "      <td>https://o.aolcdn.com/images/dims?thumbnail=120...</td>\n",
       "      <td>neutral</td>\n",
       "    </tr>\n",
       "    <tr>\n",
       "      <th>1</th>\n",
       "      <td>Romain Dillet</td>\n",
       "      <td>A few days ago, I interviewed Ken Kocienda at ...</td>\n",
       "      <td>A few days ago, I interviewed Ken Kocienda at ...</td>\n",
       "      <td>2018-09-10T15:14:15Z</td>\n",
       "      <td>{'id': 'techcrunch', 'name': 'TechCrunch'}</td>\n",
       "      <td>What makes Apple’s design culture so special</td>\n",
       "      <td>http://techcrunch.com/2018/09/10/what-makes-ap...</td>\n",
       "      <td>https://techcrunch.com/wp-content/uploads/2018...</td>\n",
       "      <td>positive</td>\n",
       "    </tr>\n",
       "    <tr>\n",
       "      <th>2</th>\n",
       "      <td>Martha Tesema</td>\n",
       "      <td>Bottle flipping, America's favorite pastime, w...</td>\n",
       "      <td>Bottle flipping, America's favorite pastime, w...</td>\n",
       "      <td>2018-09-14T15:03:13Z</td>\n",
       "      <td>{'id': 'mashable', 'name': 'Mashable'}</td>\n",
       "      <td>Please enjoy this grandmother's perfect bottle...</td>\n",
       "      <td>https://mashable.com/video/grandma-bottle-flip...</td>\n",
       "      <td>https://i.amz.mshcdn.com/2M3R0w2z1Q08iWCFP1oNe...</td>\n",
       "      <td>positive</td>\n",
       "    </tr>\n",
       "    <tr>\n",
       "      <th>3</th>\n",
       "      <td>JOHN KOBLIN</td>\n",
       "      <td>“I felt like I was doing the best work of my l...</td>\n",
       "      <td>The revival of the acclaimed comedy, which deb...</td>\n",
       "      <td>2018-09-19T17:04:39Z</td>\n",
       "      <td>{'id': 'the-new-york-times', 'name': 'The New ...</td>\n",
       "      <td>‘Murphy Brown’ Returns to Fight New Culture Wars</td>\n",
       "      <td>https://www.nytimes.com/2018/09/19/arts/televi...</td>\n",
       "      <td>https://static01.nyt.com/images/2018/09/23/art...</td>\n",
       "      <td>negative</td>\n",
       "    </tr>\n",
       "    <tr>\n",
       "      <th>4</th>\n",
       "      <td>Rhett Jones</td>\n",
       "      <td>“We’re a culture of builders,” Janelle Gale, F...</td>\n",
       "      <td>“We’re a culture of builders,” Janelle Gale, F...</td>\n",
       "      <td>2018-09-04T23:50:00Z</td>\n",
       "      <td>{'id': None, 'name': 'Gizmodo.com'}</td>\n",
       "      <td>Facebook's New Office Looks Like a Tree House ...</td>\n",
       "      <td>https://gizmodo.com/facebooks-new-office-looks...</td>\n",
       "      <td>https://i.kinja-img.com/gawker-media/image/upl...</td>\n",
       "      <td>neutral</td>\n",
       "    </tr>\n",
       "  </tbody>\n",
       "</table>\n",
       "</div>"
      ],
      "text/plain": [
       "          author                                            content  \\\n",
       "0     Saqib Shah  A total of 50 episodes have been commissioned ...   \n",
       "1  Romain Dillet  A few days ago, I interviewed Ken Kocienda at ...   \n",
       "2  Martha Tesema  Bottle flipping, America's favorite pastime, w...   \n",
       "3    JOHN KOBLIN  “I felt like I was doing the best work of my l...   \n",
       "4    Rhett Jones  “We’re a culture of builders,” Janelle Gale, F...   \n",
       "\n",
       "                                         description           publishedAt  \\\n",
       "0  Following in the footsteps of Zane Lowe and Ry...  2018-09-21T12:20:00Z   \n",
       "1  A few days ago, I interviewed Ken Kocienda at ...  2018-09-10T15:14:15Z   \n",
       "2  Bottle flipping, America's favorite pastime, w...  2018-09-14T15:03:13Z   \n",
       "3  The revival of the acclaimed comedy, which deb...  2018-09-19T17:04:39Z   \n",
       "4  “We’re a culture of builders,” Janelle Gale, F...  2018-09-04T23:50:00Z   \n",
       "\n",
       "                                              source  \\\n",
       "0             {'id': 'engadget', 'name': 'Engadget'}   \n",
       "1         {'id': 'techcrunch', 'name': 'TechCrunch'}   \n",
       "2             {'id': 'mashable', 'name': 'Mashable'}   \n",
       "3  {'id': 'the-new-york-times', 'name': 'The New ...   \n",
       "4                {'id': None, 'name': 'Gizmodo.com'}   \n",
       "\n",
       "                                               title  \\\n",
       "0  Spotify taps DJ Semtex for hip-hop culture pod...   \n",
       "1       What makes Apple’s design culture so special   \n",
       "2  Please enjoy this grandmother's perfect bottle...   \n",
       "3   ‘Murphy Brown’ Returns to Fight New Culture Wars   \n",
       "4  Facebook's New Office Looks Like a Tree House ...   \n",
       "\n",
       "                                                 url  \\\n",
       "0  https://www.engadget.com/2018/09/21/spotify-dj...   \n",
       "1  http://techcrunch.com/2018/09/10/what-makes-ap...   \n",
       "2  https://mashable.com/video/grandma-bottle-flip...   \n",
       "3  https://www.nytimes.com/2018/09/19/arts/televi...   \n",
       "4  https://gizmodo.com/facebooks-new-office-looks...   \n",
       "\n",
       "                                          urlToImage sentiment  \n",
       "0  https://o.aolcdn.com/images/dims?thumbnail=120...   neutral  \n",
       "1  https://techcrunch.com/wp-content/uploads/2018...  positive  \n",
       "2  https://i.amz.mshcdn.com/2M3R0w2z1Q08iWCFP1oNe...  positive  \n",
       "3  https://static01.nyt.com/images/2018/09/23/art...  negative  \n",
       "4  https://i.kinja-img.com/gawker-media/image/upl...   neutral  "
      ]
     },
     "execution_count": 9,
     "metadata": {},
     "output_type": "execute_result"
    }
   ],
   "source": [
    "all_articles['sentiment'] = all_articles['title'].apply(get_sentiment)\n",
    "all_articles.head()"
   ]
  },
  {
   "cell_type": "code",
   "execution_count": 10,
   "metadata": {},
   "outputs": [],
   "source": [
    "all_articles.to_csv('data/all_articles_with_sentiment.csv', index=False)"
   ]
  },
  {
   "cell_type": "code",
   "execution_count": null,
   "metadata": {},
   "outputs": [],
   "source": []
  }
 ],
 "metadata": {
  "kernelspec": {
   "display_name": "Python 3",
   "language": "python",
   "name": "python3"
  },
  "language_info": {
   "codemirror_mode": {
    "name": "ipython",
    "version": 3
   },
   "file_extension": ".py",
   "mimetype": "text/x-python",
   "name": "python",
   "nbconvert_exporter": "python",
   "pygments_lexer": "ipython3",
   "version": "3.6.4"
  }
 },
 "nbformat": 4,
 "nbformat_minor": 2
}
